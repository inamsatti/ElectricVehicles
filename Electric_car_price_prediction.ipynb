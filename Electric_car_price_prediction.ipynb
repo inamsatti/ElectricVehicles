{
  "nbformat": 4,
  "nbformat_minor": 0,
  "metadata": {
    "colab": {
      "provenance": [],
      "include_colab_link": true
    },
    "kernelspec": {
      "name": "python3",
      "display_name": "Python 3"
    },
    "language_info": {
      "name": "python"
    }
  },
  "cells": [
    {
      "cell_type": "markdown",
      "metadata": {
        "id": "view-in-github",
        "colab_type": "text"
      },
      "source": [
        "<a href=\"https://colab.research.google.com/github/inamsatti/ElectricVehicles/blob/main/Electric_car_price_prediction.ipynb\" target=\"_parent\"><img src=\"https://colab.research.google.com/assets/colab-badge.svg\" alt=\"Open In Colab\"/></a>"
      ]
    },
    {
      "cell_type": "code",
      "source": [
        "!pip install kaggle"
      ],
      "metadata": {
        "colab": {
          "base_uri": "https://localhost:8080/"
        },
        "id": "lSWk5Jm-5GNv",
        "outputId": "66e8b14f-ef1e-4d36-a65a-a3164c823a2e"
      },
      "execution_count": 1,
      "outputs": [
        {
          "output_type": "stream",
          "name": "stdout",
          "text": [
            "Requirement already satisfied: kaggle in /usr/local/lib/python3.10/dist-packages (1.6.17)\n",
            "Requirement already satisfied: six>=1.10 in /usr/local/lib/python3.10/dist-packages (from kaggle) (1.17.0)\n",
            "Requirement already satisfied: certifi>=2023.7.22 in /usr/local/lib/python3.10/dist-packages (from kaggle) (2024.12.14)\n",
            "Requirement already satisfied: python-dateutil in /usr/local/lib/python3.10/dist-packages (from kaggle) (2.8.2)\n",
            "Requirement already satisfied: requests in /usr/local/lib/python3.10/dist-packages (from kaggle) (2.32.3)\n",
            "Requirement already satisfied: tqdm in /usr/local/lib/python3.10/dist-packages (from kaggle) (4.67.1)\n",
            "Requirement already satisfied: python-slugify in /usr/local/lib/python3.10/dist-packages (from kaggle) (8.0.4)\n",
            "Requirement already satisfied: urllib3 in /usr/local/lib/python3.10/dist-packages (from kaggle) (2.2.3)\n",
            "Requirement already satisfied: bleach in /usr/local/lib/python3.10/dist-packages (from kaggle) (6.2.0)\n",
            "Requirement already satisfied: webencodings in /usr/local/lib/python3.10/dist-packages (from bleach->kaggle) (0.5.1)\n",
            "Requirement already satisfied: text-unidecode>=1.3 in /usr/local/lib/python3.10/dist-packages (from python-slugify->kaggle) (1.3)\n",
            "Requirement already satisfied: charset-normalizer<4,>=2 in /usr/local/lib/python3.10/dist-packages (from requests->kaggle) (3.4.0)\n",
            "Requirement already satisfied: idna<4,>=2.5 in /usr/local/lib/python3.10/dist-packages (from requests->kaggle) (3.10)\n"
          ]
        }
      ]
    },
    {
      "cell_type": "markdown",
      "source": [
        "**Importing Libriries**"
      ],
      "metadata": {
        "id": "VsXwUjZA5Mvz"
      }
    },
    {
      "cell_type": "code",
      "source": [
        "import kagglehub\n",
        "import pandas as pd\n",
        "import numpy as np\n",
        "import matplotlib.pyplot as plt\n",
        "%matplotlib inline\n",
        "import missingno as msno\n",
        "from sklearn.preprocessing import StandardScaler\n",
        "from sklearn.ensemble import RandomForestClassifier\n",
        "from sklearn.metrics import confusion_matrix, classification_report, accuracy_score, f1_score\n",
        "import seaborn as sns\n",
        "from sklearn.model_selection import train_test_split\n",
        "from sklearn.ensemble import RandomForestRegressor\n",
        "from sklearn.metrics import mean_absolute_error, mean_squared_error,r2_score\n",
        "from sklearn.preprocessing import LabelEncoder\n",
        "import xgboost as xgb\n",
        "from sklearn.svm import SVR\n",
        "from sklearn.pipeline import make_pipeline\n",
        "import pickle\n",
        "from sklearn.impute import SimpleImputer\n",
        "from sklearn.linear_model import LinearRegression\n",
        "import torch\n",
        "import torch.nn as nn\n",
        "import torch.nn.functional as F\n"
      ],
      "metadata": {
        "id": "M99wkRk55QP-"
      },
      "execution_count": 2,
      "outputs": []
    },
    {
      "cell_type": "markdown",
      "source": [
        "**Dataset loading**"
      ],
      "metadata": {
        "id": "r7RGmLb_5VKB"
      }
    },
    {
      "cell_type": "code",
      "source": [
        "path = kagglehub.dataset_download(\"kkhandekar/cheapest-electric-cars/versions/1\")\n",
        "print(\"Path to dataset files:\", path)\n",
        "df1 = pd.read_csv(\"/root/.cache/kagglehub/datasets/kkhandekar/cheapest-electric-cars/versions/1/Cheapestelectriccars-EVDatabase.csv\")\n",
        "\n",
        "df1.head()"
      ],
      "metadata": {
        "id": "hm-mjg4W5YIh"
      },
      "execution_count": null,
      "outputs": []
    },
    {
      "cell_type": "code",
      "source": [
        "msno.matrix(df1,figsize=(10,5),fontsize=10)"
      ],
      "metadata": {
        "id": "KEpvn15B5bg5"
      },
      "execution_count": null,
      "outputs": []
    },
    {
      "cell_type": "code",
      "source": [
        "\n",
        "# Removijng currency symbols and convert price columns to numeric values\n",
        "df1['PriceinGermany'] = pd.to_numeric(df1['PriceinGermany'].str.replace('€', '').str.replace(',', ''), errors='coerce')\n",
        "df1['PriceinUK'] = pd.to_numeric(df1['PriceinUK'].str.replace('£', '').str.replace(',', ''), errors='coerce')\n",
        "\n",
        "# Removing \"km/h\" or \"km\" from relevant columns and convert them to numeric\n",
        "df1['TopSpeed'] = pd.to_numeric(df1['TopSpeed'].str.replace(' km/h', ''), errors='coerce')\n",
        "df1['Range'] = pd.to_numeric(df1['Range'].str.replace(' km', ''), errors='coerce')\n",
        "df1['Efficiency'] = pd.to_numeric(df1['Efficiency'].str.replace(' Wh/km', ''), errors='coerce')\n",
        "df1['FastChargeSpeed'] = pd.to_numeric(df1['FastChargeSpeed'].str.replace(' km/h', ''), errors='coerce')\n",
        "# if priceis availale in germany but uk has NaN it will use that price to fill by conbverting german price to uk\n",
        "\n",
        "df1['PriceinUK'] = df1['PriceinUK'].fillna(df1['PriceinGermany'] * 0.84)\n",
        "# if both has NaN filling uk price with mean price\n",
        "df1['PriceinUK'] = df1['PriceinUK'].fillna(df1['PriceinUK'].mean())\n",
        "#fixing fast charging mising values with mean values\n",
        "\n",
        "df1['FastChargeSpeed'] = df1['FastChargeSpeed'].fillna(df1['FastChargeSpeed'].mean())\n",
        "\n",
        "df1.head()\n"
      ],
      "metadata": {
        "id": "i2r7ZpaU5fCX"
      },
      "execution_count": null,
      "outputs": []
    },
    {
      "cell_type": "code",
      "source": [
        "msno.matrix(df1,figsize=(10,5),fontsize=10)"
      ],
      "metadata": {
        "id": "krfYt1zi5hp9"
      },
      "execution_count": null,
      "outputs": []
    },
    {
      "cell_type": "code",
      "source": [
        "df1.info()"
      ],
      "metadata": {
        "id": "mMY09kf85ldH"
      },
      "execution_count": null,
      "outputs": []
    },
    {
      "cell_type": "markdown",
      "source": [
        "**loading dataset 2**"
      ],
      "metadata": {
        "id": "lA61XpWx5ojk"
      }
    },
    {
      "cell_type": "code",
      "source": [
        "url = \"https://raw.githubusercontent.com/awais345/Electric-vehicles/main/Electric%20Car.csv\"\n",
        "df2 = pd.read_csv(url)\n",
        "df2.head()"
      ],
      "metadata": {
        "id": "0auldYvQ5t2E"
      },
      "execution_count": null,
      "outputs": []
    },
    {
      "cell_type": "code",
      "source": [
        "df2.info()"
      ],
      "metadata": {
        "id": "mqkMYJs05zZN"
      },
      "execution_count": null,
      "outputs": []
    },
    {
      "cell_type": "code",
      "source": [
        "msno.matrix(df2,figsize=(10,5),fontsize=10)"
      ],
      "metadata": {
        "id": "wHFPTRxr516F"
      },
      "execution_count": null,
      "outputs": []
    },
    {
      "cell_type": "markdown",
      "source": [
        "**Merging the datasets to create 1 big dataset**"
      ],
      "metadata": {
        "id": "21PhQoxo54_g"
      }
    },
    {
      "cell_type": "code",
      "source": [
        "\n",
        "# we note that 2 columns merged can make name column of df1 from df2\n",
        "# so 'Name' column in df2 is made by combining 'Brand' and 'Model'\n",
        "df2['Name'] = df2['Brand'] + \" \" + df2['Model']\n",
        "\n",
        "#  Renaming the  df2 columns to match with df1\n",
        "df2_renamed = df2.rename(columns={\n",
        "    'AccelSec': 'Acceleration',\n",
        "    'TopSpeed_KmH': 'TopSpeed',\n",
        "    'Range_Km': 'Range',\n",
        "    'Efficiency_WhKm': 'Efficiency',\n",
        "    'FastCharge_KmH': 'FastChargeSpeed',\n",
        "    'Seats': 'NumberofSeats',\n",
        "    'PriceEuro': 'PriceinEuro'\n",
        "})\n",
        "\n",
        "# now we have  matching columns in both datsets with equal type of units\n",
        "# converting the Price in Euro to UK pound ( 1 Euro = 0.84 )\n",
        "df2_renamed['PriceinUK'] = df2_renamed['PriceinEuro'] * 0.84\n",
        "\n",
        "#  also Renaming the  df1 columns to match with df1\n",
        "df2_final = df2_renamed[['Name', 'Acceleration', 'TopSpeed', 'Range', 'Efficiency', 'FastChargeSpeed', 'NumberofSeats', 'PriceinUK']]\n",
        "print(df2_final.head())\n",
        "# using only matching columns from df1\n",
        "df1_final = df1[['Name', 'Acceleration', 'TopSpeed', 'Range', 'Efficiency', 'FastChargeSpeed', 'NumberofSeats', 'PriceinUK']]\n",
        "print(df1_final.head())\n",
        "# merging both columns\n",
        "df = pd.concat([df1_final, df2_final], ignore_index=True)\n",
        "\n",
        "\n",
        "print(df.info())"
      ],
      "metadata": {
        "id": "ACIZ-SP758ta"
      },
      "execution_count": null,
      "outputs": []
    },
    {
      "cell_type": "code",
      "source": [
        "df"
      ],
      "metadata": {
        "id": "YdAf5GDY6AF6"
      },
      "execution_count": null,
      "outputs": []
    },
    {
      "cell_type": "markdown",
      "source": [
        "# **EDA**"
      ],
      "metadata": {
        "id": "-kNBTkQC6Cf5"
      }
    },
    {
      "cell_type": "code",
      "source": [
        "# checking for the missing values for the merged dataset\n",
        "\n",
        "msno.matrix(df,figsize=(10,5),fontsize=10)"
      ],
      "metadata": {
        "id": "pFrPs3vz6DR8"
      },
      "execution_count": null,
      "outputs": []
    },
    {
      "cell_type": "code",
      "source": [
        "sns.heatmap(df.isnull(), cbar=False, cmap='viridis')\n"
      ],
      "metadata": {
        "id": "ZoHTsJUb6H4P"
      },
      "execution_count": null,
      "outputs": []
    },
    {
      "cell_type": "code",
      "source": [
        "print(df.describe())"
      ],
      "metadata": {
        "id": "QUdF_1OH6KtH"
      },
      "execution_count": null,
      "outputs": []
    },
    {
      "cell_type": "code",
      "source": [
        "# Distribution of categorical columns\n",
        "print(df['Name'].value_counts())\n",
        "print(df['Acceleration'].value_counts())\n",
        "print(df['FastChargeSpeed'].value_counts())\n"
      ],
      "metadata": {
        "id": "lcC5AsVo6QG1"
      },
      "execution_count": null,
      "outputs": []
    },
    {
      "cell_type": "code",
      "source": [
        "# Histogram for numerical columns\n",
        "numerical_columns = ['TopSpeed', 'Range', 'Efficiency', 'NumberofSeats', 'PriceinUK']\n",
        "df[numerical_columns].hist(bins=20, figsize=(12, 8))\n",
        "plt.tight_layout()\n",
        "plt.show()\n",
        "\n",
        "# Box plot for PriceinUK\n",
        "sns.boxplot(x=df['PriceinUK'])\n",
        "plt.show()\n"
      ],
      "metadata": {
        "id": "lgN9b1gI6WYr"
      },
      "execution_count": null,
      "outputs": []
    },
    {
      "cell_type": "code",
      "source": [
        "# Bar plot for 'NumberofSeats'\n",
        "sns.countplot(x='NumberofSeats', data=df)\n",
        "plt.show()\n"
      ],
      "metadata": {
        "id": "A7kdHbt_6ZhH"
      },
      "execution_count": null,
      "outputs": []
    },
    {
      "cell_type": "code",
      "source": [
        "# Pairplot for numerical columns\n",
        "sns.pairplot(df[numerical_columns])\n",
        "plt.show()\n"
      ],
      "metadata": {
        "id": "7A7-EHOk6cBe"
      },
      "execution_count": null,
      "outputs": []
    },
    {
      "cell_type": "code",
      "source": [
        "# Correlation heatmap\n",
        "corr = df[numerical_columns].corr()\n",
        "sns.heatmap(corr, annot=True, cmap='coolwarm')\n",
        "plt.show()\n"
      ],
      "metadata": {
        "id": "8eCt8BQ76rhV"
      },
      "execution_count": null,
      "outputs": []
    },
    {
      "cell_type": "code",
      "source": [
        "sns.relplot(x='Range', y='PriceinUK', data=df)"
      ],
      "metadata": {
        "id": "I3tk2M7d6umQ"
      },
      "execution_count": null,
      "outputs": []
    },
    {
      "cell_type": "markdown",
      "source": [
        "### **Feature Egineering**"
      ],
      "metadata": {
        "id": "m4nLjMZ76zr3"
      }
    },
    {
      "cell_type": "code",
      "source": [
        "# removing non numeric units\n",
        "df['Acceleration'] = df['Acceleration'].str.replace(' sec', '', regex=False).astype(float)\n",
        "\n",
        "df['FastChargeSpeed'] = pd.to_numeric(df['FastChargeSpeed'], errors='coerce')\n",
        "# droping the name and target column as the name brand impact is unpredictable\n",
        "X = df.drop(columns=['Name', 'PriceinUK'])\n",
        "\n",
        "# seting the target variable\n",
        "y = df['PriceinUK']\n",
        "\n"
      ],
      "metadata": {
        "id": "6SkhP5Cg62jp"
      },
      "execution_count": null,
      "outputs": []
    },
    {
      "cell_type": "code",
      "source": [
        "X = df[['Range', 'TopSpeed', 'Efficiency', 'NumberofSeats']]\n",
        "y = df['PriceinUK']\n",
        "\n",
        "model = RandomForestRegressor()\n",
        "model.fit(X, y)\n",
        "\n",
        "# Ploting feature importance using RF-regressor\n",
        "importance = model.feature_importances_\n",
        "sns.barplot(x=X.columns, y=importance)"
      ],
      "metadata": {
        "id": "lofmTixg6519"
      },
      "execution_count": null,
      "outputs": []
    },
    {
      "cell_type": "code",
      "source": [
        "df.info()"
      ],
      "metadata": {
        "id": "EYN0NVVl68rW"
      },
      "execution_count": null,
      "outputs": []
    },
    {
      "cell_type": "code",
      "source": [
        "df.columns"
      ],
      "metadata": {
        "id": "jL4J3KHB7Ao8"
      },
      "execution_count": null,
      "outputs": []
    },
    {
      "cell_type": "code",
      "source": [
        "X = df.drop(columns=['Name', 'PriceinUK'])\n",
        "y = df['PriceinUK']\n"
      ],
      "metadata": {
        "id": "c4Kx3PzZ7EZP"
      },
      "execution_count": null,
      "outputs": []
    },
    {
      "cell_type": "code",
      "source": [
        "# Feature Engineering: SMA, EMA, MACD, ROC\n",
        "# PriceinUK is oir feature for the indicators\n",
        "\n",
        "# Calculating Simple Moving Average (SMA)\n",
        "df['SMA_20'] = df['PriceinUK'].rolling(window=20).mean()  # 20-period SMA\n",
        "\n",
        "# Calculating Exponential Moving Average (EMA)\n",
        "df['EMA_20'] = df['PriceinUK'].ewm(span=20, adjust=False).mean()  # 20-period EMA\n",
        "\n",
        "# Calculating MACD (Moving Average Convergence Divergence)\n",
        "# Fast EMA (12-period)\n",
        "df['EMA_12'] = df['PriceinUK'].ewm(span=12, adjust=False).mean()\n",
        "# Slow EMA (26-period)\n",
        "df['EMA_26'] = df['PriceinUK'].ewm(span=26, adjust=False).mean()\n",
        "# MACD Line\n",
        "df['MACD'] = df['EMA_12'] - df['EMA_26']\n",
        "# Signal Line (9-period EMA of MACD)\n",
        "df['Signal_Line'] = df['MACD'].ewm(span=9, adjust=False).mean()\n",
        "\n",
        "\n",
        "# Calculating Rate of Change (ROC)\n",
        "# 1-period ROC in percentage\n",
        "df['ROC'] = df['PriceinUK'].pct_change(periods=1) * 100\n",
        "\n",
        "# Ploting all indicators in a single plot\n",
        "plt.figure(figsize=(12, 8))\n",
        "\n",
        "# Ploting the original PriceinUK\n",
        "plt.plot(df['PriceinUK'], label='Price in UK', color='blue', alpha=0.7)\n",
        "\n",
        "# Ploting SMA and EMA\n",
        "plt.plot(df['SMA_20'], label='SMA 20', color='orange', linestyle='--')\n",
        "plt.plot(df['EMA_20'], label='EMA 20', color='green', linestyle='-.')\n",
        "\n",
        "# Ploting MACD and Signal Line\n",
        "plt.plot(df['MACD'], label='MACD', color='red', linestyle='-')\n",
        "plt.plot(df['Signal_Line'], label='Signal Line', color='purple', linestyle=':')\n",
        "\n",
        "# Ploting ROC (Rate of Change)\n",
        "plt.plot(df['ROC'], label='ROC', color='brown', linestyle='-')\n",
        "\n",
        "# Setting t he plot title and labels\n",
        "plt.title('Technical Indicators: SMA, EMA, MACD, and ROC for PriceinUK')\n",
        "plt.xlabel('Index')\n",
        "plt.ylabel('Value')\n",
        "plt.legend()\n",
        "\n",
        "# Show the plot\n",
        "plt.tight_layout()\n",
        "plt.show()\n"
      ],
      "metadata": {
        "id": "5zd1UwOJ7H1R"
      },
      "execution_count": null,
      "outputs": []
    },
    {
      "cell_type": "code",
      "source": [
        "# filling all nulls\n",
        "df['Acceleration'].fillna(df['Acceleration'].median(), inplace=True)\n",
        "df['FastChargeSpeed'].fillna(df['FastChargeSpeed'].median(), inplace=True)\n",
        "df['SMA_20'].fillna(df['SMA_20'].median(), inplace=True)\n",
        "df['ROC'].fillna(df['ROC'].median(), inplace=True)\n",
        "print(df.isnull().sum())\n"
      ],
      "metadata": {
        "id": "_O-j6QE07Kqm"
      },
      "execution_count": null,
      "outputs": []
    },
    {
      "cell_type": "markdown",
      "source": [
        "# Random forest"
      ],
      "metadata": {
        "id": "VX6eGnSA7Ngr"
      }
    },
    {
      "cell_type": "code",
      "source": [
        "def random_forest(ts,nst):\n",
        "\n",
        "  # Spliting nin test train ratio\n",
        "  X_train, X_test, y_train, y_test = train_test_split(X, y, test_size=ts, random_state=42)\n",
        "\n",
        "  # Training the Random Forest Model\n",
        "  rf_model = RandomForestRegressor(n_estimators=nst, random_state=42)\n",
        "  rf_model.fit(X_train, y_train)\n",
        "\n",
        "  # Predicting\n",
        "  y_pred = rf_model.predict(X_test)\n",
        "\n",
        "  # Evaluating the Model\n",
        "  mae = mean_absolute_error(y_test, y_pred)\n",
        "  mse = mean_squared_error(y_test, y_pred)\n",
        "  rmse = np.sqrt(mse)\n",
        "  rse = r2_score(y_test, y_pred)\n",
        "  print(\"\\n\\n\")\n",
        "  print(\"-\"*60)\n",
        "  print(\"-\"*60)\n",
        "  print(\"Mean Absolute Error (MAE):\", mae)\n",
        "  print(\"Mean Squared Error (MSE):\", mse)\n",
        "  print(\"Root Mean Squared Error (RMSE):\", rmse)\n",
        "  print(\"R-Squared Score (R2SE):\", rse)\n",
        "  print(\"-\"*60)\n",
        "  print(\"-\"*60)\n",
        "\n",
        "  # Graph ploting\n",
        "  plt.figure(figsize=(10, 6))\n",
        "  plt.scatter(y_test, y_pred\n",
        "              , alpha=0.5)\n",
        "  plt.plot([min(y_test), max(y_test)], [min(y_test), max(y_test)], linestyle='--', color='red')\n",
        "  plt.xlabel('Actual Prices')\n",
        "  plt.ylabel('Predicted Prices')\n",
        "  plt.title('Actual Prices vs. Predicted Prices')\n",
        "  plt.show()\n",
        "    # Error Distribution Plot\n",
        "  residuals = y_test - y_pred\n",
        "  plt.figure(figsize=(10, 6))\n",
        "  sns.histplot(residuals, kde=True, bins=30, color='blue')\n",
        "  plt.xlabel('Residuals (Errors)')\n",
        "  plt.title('Error Distribution')\n",
        "  plt.show()\n",
        "\n",
        "  return rf_model\n",
        "\n",
        "\n"
      ],
      "metadata": {
        "id": "Cpk59t7d7Oj1"
      },
      "execution_count": null,
      "outputs": []
    },
    {
      "cell_type": "code",
      "source": [
        "model = random_forest(ts=0.2,nst=100)"
      ],
      "metadata": {
        "id": "r2xnTsgf7UED"
      },
      "execution_count": null,
      "outputs": []
    },
    {
      "cell_type": "code",
      "source": [
        "model2 = random_forest(ts=0.3,nst=150)"
      ],
      "metadata": {
        "id": "pckHFDsD7XWs"
      },
      "execution_count": null,
      "outputs": []
    },
    {
      "cell_type": "code",
      "source": [
        "model3 = random_forest(ts=0.3,nst=100)"
      ],
      "metadata": {
        "id": "SJFHVV3L7aLZ"
      },
      "execution_count": null,
      "outputs": []
    },
    {
      "cell_type": "markdown",
      "source": [
        "*predicting the price**"
      ],
      "metadata": {
        "id": "0oyBI5TI7chd"
      }
    },
    {
      "cell_type": "code",
      "source": [
        "def predict_car_price(model, feature_order):\n",
        "    print(\"Please enter the values for the following features:\")\n",
        "\n",
        "    try:\n",
        "\n",
        "        top_speed = float(input(\"Enter the top speed (in km/h): \"))\n",
        "        range_km = float(input(\"Enter the range (in km): \"))\n",
        "        efficiency = float(input(\"Enter the efficiency (in Wh/km): \"))\n",
        "        fast_charge_speed = float(input(\"Enter the fast charge speed (in km/h): \"))\n",
        "        number_of_seats = int(input(\"Enter the number of seats: \"))\n",
        "        acceleration = float(input(\"Enter the acceleration (in seconds): \"))\n",
        "\n",
        "        # dictionary for input values\n",
        "        input_data = {\n",
        "            'TopSpeed': top_speed,\n",
        "            'Range': range_km,\n",
        "            'Efficiency': efficiency,\n",
        "            'FastChargeSpeed': fast_charge_speed,\n",
        "            'NumberofSeats': number_of_seats,\n",
        "            'Acceleration': acceleration\n",
        "        }\n",
        "\n",
        "\n",
        "        input_df = pd.DataFrame([input_data])\n",
        "\n",
        "        # matching the feature\n",
        "        input_df = input_df[feature_order]\n",
        "\n",
        "        # error tackling\n",
        "        print(\"\\nInput Data for Prediction:\\n\", input_df)\n",
        "\n",
        "        # Predicting the price\n",
        "        predicted_price = model.predict(input_df)[0]\n",
        "        print(f\"\\nThe predicted price of the car is: €{predicted_price:,.2f}\")\n",
        "\n",
        "    except ValueError as ve:\n",
        "        print(f\"Input Error: {ve}\")\n",
        "    except Exception as e:\n",
        "        print(f\"An unexpected error occurred: {e}\")\n"
      ],
      "metadata": {
        "id": "4KZ_WJ9D7ful"
      },
      "execution_count": null,
      "outputs": []
    },
    {
      "cell_type": "code",
      "source": [
        "predict_car_price(model3, X.columns)\n"
      ],
      "metadata": {
        "id": "7XfH-4FT7ifE"
      },
      "execution_count": null,
      "outputs": []
    },
    {
      "cell_type": "markdown",
      "source": [
        "# **XGBoost**"
      ],
      "metadata": {
        "id": "mP7pWAa97k3V"
      }
    },
    {
      "cell_type": "code",
      "source": [
        "def xgboost(df, n_estim,lr,dep,ts):\n",
        "\n",
        "  # Dropping missing values\n",
        "  data = df.copy()\n",
        "  data.dropna(inplace=True)\n",
        "\n",
        "  # Splitting the data into training and testing datasets\n",
        "  X_train, X_test, y_train, y_test = train_test_split(X, y, test_size=ts, random_state=42)\n",
        "\n",
        "  # Initializing and fitting the XGBoost model\n",
        "  xg_model = xgb.XGBRegressor(objective='reg:squarederror',\n",
        "                              n_estimators=n_estim,\n",
        "                              learning_rate=lr,\n",
        "                              max_depth=dep)\n",
        "  xg_model.fit(X_train, y_train)\n",
        "\n",
        "  # Making predictions\n",
        "  y_pred = xg_model.predict(X_test)\n",
        "\n",
        "  # Calculate RMSE, MSE, MAE, and R²\n",
        "  mse = mean_squared_error(y_test, y_pred)\n",
        "  rmse = np.sqrt(mse)\n",
        "  mae = mean_absolute_error(y_test, y_pred)\n",
        "  rse = r2_score(y_test, y_pred)\n",
        "\n",
        "  # Output the metrics\n",
        "  print(\"\\n\" + \"-\"*60)\n",
        "  print(\"XGBoost Summary\")\n",
        "  print(\"-\"*60)\n",
        "  print(f\"RMSE of the trained model: {rmse:.3f}\")\n",
        "  print(f\"MSE of the trained model: {mse:.3f}\")\n",
        "  print(f\"MAE of the trained model: {mae:.3f}\")\n",
        "  print(f\"R-Squared Error (R²): {rse:.3f}\")\n",
        "  print(\"-\"*60 + \"\\n\")\n",
        "  # Graph ploting\n",
        "  plt.figure(figsize=(10, 6))\n",
        "  plt.scatter(y_test, y_pred\n",
        "              , alpha=0.5)\n",
        "  plt.plot([min(y_test), max(y_test)], [min(y_test), max(y_test)], linestyle='--', color='red')\n",
        "  plt.xlabel('Actual Prices')\n",
        "  plt.ylabel('Predicted Prices')\n",
        "  plt.title('Actual Prices vs. Predicted Prices')\n",
        "  plt.show()\n",
        "    # Error Distribution Plot\n",
        "  residuals = y_test - y_pred\n",
        "  plt.figure(figsize=(10, 6))\n",
        "  sns.histplot(residuals, kde=True, bins=30, color='blue')\n",
        "  plt.xlabel('Residuals (Errors)')\n",
        "  plt.title('Error Distribution')\n",
        "  plt.show()\n",
        "  return xg_model"
      ],
      "metadata": {
        "id": "M6Bc1eWI7odG"
      },
      "execution_count": null,
      "outputs": []
    },
    {
      "cell_type": "code",
      "source": [
        "model =xgboost(df,100,0.01,5,0.2)"
      ],
      "metadata": {
        "id": "6huXRnvp7rcF"
      },
      "execution_count": null,
      "outputs": []
    },
    {
      "cell_type": "code",
      "source": [
        "model =xgboost(df,100,0.01,5,0.3)"
      ],
      "metadata": {
        "id": "nhUjiMSz7tzv"
      },
      "execution_count": null,
      "outputs": []
    },
    {
      "cell_type": "code",
      "source": [
        "model =xgboost(df,100,0.1,5,0.3)"
      ],
      "metadata": {
        "id": "DjEhV44x7zrc"
      },
      "execution_count": null,
      "outputs": []
    },
    {
      "cell_type": "markdown",
      "source": [
        "**Predicting price**"
      ],
      "metadata": {
        "id": "z_nkdqqr72jw"
      }
    },
    {
      "cell_type": "code",
      "source": [
        "def predict_with_xgboost_interactive(model):\n",
        "    \"\"\"\n",
        "    Function to interactively predict the car price using the trained XGBoost model.\n",
        "    Returns:\n",
        "    Predicted price.\n",
        "    \"\"\"\n",
        "    try:\n",
        "        # Prompt the user to input values for each feature\n",
        "        print(\"Please enter the following details for price prediction:\\n\")\n",
        "\n",
        "        acceleration = float(input(\"Acceleration (in seconds, e.g., 5.0): \"))\n",
        "        top_speed = int(input(\"Top Speed (in km/h, e.g., 220): \"))\n",
        "        car_range = int(input(\"Range (in km, e.g., 400): \"))\n",
        "        efficiency = int(input(\"Efficiency (in Wh/km, e.g., 160): \"))\n",
        "        fast_charge_speed = float(input(\"Fast Charge Speed (in km/h, e.g., 800): \"))\n",
        "        number_of_seats = int(input(\"Number of Seats (e.g., 5): \"))\n",
        "\n",
        "        # Create a DataFrame with the user inputs\n",
        "        input_features = {\n",
        "            'Acceleration': acceleration,\n",
        "            'TopSpeed': top_speed,\n",
        "            'Range': car_range,\n",
        "            'Efficiency': efficiency,\n",
        "            'FastChargeSpeed': fast_charge_speed,\n",
        "            'NumberofSeats': number_of_seats\n",
        "        }\n",
        "        input_df = pd.DataFrame([input_features])\n",
        "\n",
        "        # Ensure the column order matches the training data\n",
        "        input_df = input_df[X.columns]\n",
        "\n",
        "        # Predict the price directly using the model\n",
        "        predicted_price = model.predict(input_df)[0]\n",
        "\n",
        "        print(f\"\\nPredicted Price (in UK): £{predicted_price:.2f}\")\n",
        "        return predicted_price\n",
        "\n",
        "    except Exception as e:\n",
        "        print(f\"An error occurred during prediction: {e}\")\n",
        "        return None\n"
      ],
      "metadata": {
        "id": "lW2F8OVF73UG"
      },
      "execution_count": null,
      "outputs": []
    },
    {
      "cell_type": "code",
      "source": [
        "predict_with_xgboost_interactive(model)\n"
      ],
      "metadata": {
        "id": "6bh8qmaz78K5"
      },
      "execution_count": null,
      "outputs": []
    },
    {
      "cell_type": "markdown",
      "source": [
        "# SVM"
      ],
      "metadata": {
        "id": "MzYRJUdm7-aJ"
      }
    },
    {
      "cell_type": "code",
      "source": [
        "def svr_model(ts, kernel, X, y):\n",
        "    # Splitting the dataset\n",
        "    X_train, X_test, y_train, y_test = train_test_split(X, y, test_size=ts, random_state=42)\n",
        "\n",
        "    # Training the SVR Model\n",
        "    svr = SVR(kernel=kernel)\n",
        "    svr.fit(X_train, y_train)\n",
        "\n",
        "    # Predicting\n",
        "    y_pred = svr.predict(X_test)\n",
        "\n",
        "    # Evaluating the Model\n",
        "    mse = mean_squared_error(y_test, y_pred)\n",
        "    rmse = np.sqrt(mse)\n",
        "    mae = mean_absolute_error(y_test, y_pred)\n",
        "    rse = r2_score(y_test, y_pred)\n",
        "\n",
        "    print(\"-\" * 60)\n",
        "    print(\"SVR Summary\")\n",
        "    print(\"-\" * 60)\n",
        "    print(\"Mean Squared Error (MSE):\", mse)\n",
        "    print(\"Root Mean Squared Error (RMSE):\", rmse)\n",
        "    print(\"Mean Absolute Error (MAE):\", mae)\n",
        "    print(\"R-Squared Error (R2SE):\", rse)\n",
        "    print(\"-\" * 60)\n",
        "\n",
        "    # Plotting Actual vs Predicted Values\n",
        "    plt.figure(figsize=(10, 6))\n",
        "    plt.scatter(y_test, y_pred, alpha=0.5)\n",
        "    plt.plot([min(y_test), max(y_test)], [min(y_test), max(y_test)], linestyle='--', color='red')\n",
        "    plt.xlabel('Actual Prices')\n",
        "    plt.ylabel('Predicted Prices')\n",
        "    plt.title('Actual Prices vs. Predicted Prices (SVR)')\n",
        "    plt.show()\n",
        "\n",
        "    # Error Distribution Plot\n",
        "    residuals = y_test - y_pred\n",
        "    plt.figure(figsize=(10, 6))\n",
        "    sns.histplot(residuals, kde=True, bins=30, color='blue')\n",
        "    plt.xlabel('Residuals (Errors)')\n",
        "    plt.title('Error Distribution')\n",
        "    plt.show()\n",
        "\n",
        "    # Save the model to a file\n",
        "    with open('svr_model.pkl', 'wb') as f:\n",
        "        pickle.dump(svr, f)\n",
        "\n",
        "    print(\"Model saved as 'svr_model.pkl'\")\n",
        "\n",
        "    return svr\n"
      ],
      "metadata": {
        "id": "R648xu7g7_Wg"
      },
      "execution_count": null,
      "outputs": []
    },
    {
      "cell_type": "code",
      "source": [
        "# Imputing missing values with the mean for SVR model\n",
        "imputer = SimpleImputer(strategy='mean')\n",
        "X_imputed = imputer.fit_transform(X)"
      ],
      "metadata": {
        "id": "1V8fprCv8GiS"
      },
      "execution_count": null,
      "outputs": []
    },
    {
      "cell_type": "code",
      "source": [
        "model = svr_model(ts=0.2, kernel='rbf', X=X_imputed, y=y)\n"
      ],
      "metadata": {
        "id": "OIoRUXek8K34"
      },
      "execution_count": null,
      "outputs": []
    },
    {
      "cell_type": "code",
      "source": [
        "model = svr_model(ts=0.3, kernel='rbf', X=X_imputed, y=y)"
      ],
      "metadata": {
        "id": "OcV9o2HH8Noy"
      },
      "execution_count": null,
      "outputs": []
    },
    {
      "cell_type": "code",
      "source": [
        "model = svr_model(ts=0.35, kernel='rbf', X=X_imputed, y=y)"
      ],
      "metadata": {
        "id": "zn6S-A2C8QpH"
      },
      "execution_count": null,
      "outputs": []
    },
    {
      "cell_type": "markdown",
      "source": [
        "**Predicitng the prices**"
      ],
      "metadata": {
        "id": "cL8H7i_o8TH5"
      }
    },
    {
      "cell_type": "code",
      "source": [
        "def predict_car_price_svr(model_file):\n",
        "    # Load the saved model\n",
        "    with open(model_file, 'rb') as f:\n",
        "        svr_model = pickle.load(f)\n",
        "\n",
        "    print(\"Please enter the values for the following features:\")\n",
        "\n",
        "    # Taking user input for each feature\n",
        "    top_speed = float(input(\"Enter the top speed (in km/h): \"))\n",
        "    range_km = float(input(\"Enter the range (in km): \"))\n",
        "    efficiency = float(input(\"Enter the efficiency (in Wh/km): \"))\n",
        "    fast_charge_speed = float(input(\"Enter the fast charge speed (in km/h): \"))\n",
        "    number_of_seats = int(input(\"Enter the number of seats: \"))\n",
        "    acceleration = float(input(\"Enter the acceleration (in seconds): \"))\n",
        "\n",
        "    # Creating a DataFrame for the input values\n",
        "    input_data = pd.DataFrame({\n",
        "        'TopSpeed': [top_speed],\n",
        "        'Range': [range_km],\n",
        "        'Efficiency': [efficiency],\n",
        "        'FastChargeSpeed': [fast_charge_speed],\n",
        "        'NumberofSeats': [number_of_seats],\n",
        "        'Acceleration': [acceleration]\n",
        "    })\n",
        "\n",
        "    # Predicting the price using the loaded model\n",
        "    predicted_price = svr_model.predict(input_data)[0]\n",
        "    print(f\"\\nThe predicted price of the car is: €{predicted_price:,.2f}\")\n"
      ],
      "metadata": {
        "id": "nDQWOKff8UHY"
      },
      "execution_count": null,
      "outputs": []
    },
    {
      "cell_type": "code",
      "source": [
        "predict_car_price_svr('svr_model.pkl')\n"
      ],
      "metadata": {
        "id": "UPhXMpd68Ynf"
      },
      "execution_count": null,
      "outputs": []
    },
    {
      "cell_type": "markdown",
      "source": [
        "# Linear Regression function"
      ],
      "metadata": {
        "id": "cSb6Y2_I8btJ"
      }
    },
    {
      "cell_type": "code",
      "source": [
        "def train_linear_regression_model(X, y, randoms,ts):\n",
        "    \"\"\"\n",
        "    Function to train a Linear Regression model with missing value imputation,\n",
        "    and plot actual vs predicted values and error distribution.\n",
        "    \"\"\"\n",
        "    try:\n",
        "        # Impute missing values using the mean\n",
        "        imputer = SimpleImputer(strategy='mean')\n",
        "        X_imputed = imputer.fit_transform(X)\n",
        "\n",
        "        # Split the data into training and testing sets\n",
        "        X_train, X_test, y_train, y_test = train_test_split(X_imputed, y, test_size=ts, random_state=randoms)\n",
        "\n",
        "        # Train the Linear Regression model\n",
        "        model = LinearRegression()\n",
        "        model.fit(X_train, y_train)\n",
        "\n",
        "        # Predict on the test set\n",
        "        y_pred = model.predict(X_test)\n",
        "\n",
        "        # Calculate RMSE, MSE, and MAE\n",
        "        rmse = np.sqrt(mean_squared_error(y_test, y_pred))\n",
        "        mse = mean_squared_error(y_test, y_pred)\n",
        "        mae = mean_absolute_error(y_test, y_pred)\n",
        "        rse = r2_score(y_test, y_pred)\n",
        "\n",
        "        # Output the metrics\n",
        "        print(\"\\n\\n\")\n",
        "        print(\"-\" * 60)\n",
        "        print(\"Linear Regression Summary\")\n",
        "        print(\"-\" * 60)\n",
        "        print(f\"RMSE of the trained model: {rmse:.3f}\")\n",
        "        print(f\"MSE of the trained model: {mse:.3f}\")\n",
        "        print(f\"MAE of the trained model: {mae:.3f}\")\n",
        "        print(f\"R-Squared Error (R2SE): {rse:.3f}\")\n",
        "        print(\"-\" * 60)\n",
        "        print(\"\\n\\n\")\n",
        "\n",
        "        # Plotting Actual vs Predicted Values\n",
        "        plt.figure(figsize=(10, 6))\n",
        "        plt.scatter(y_test, y_pred, alpha=0.5)\n",
        "        plt.plot([min(y_test), max(y_test)], [min(y_test), max(y_test)], linestyle='--', color='red')\n",
        "        plt.xlabel('Actual Prices')\n",
        "        plt.ylabel('Predicted Prices')\n",
        "        plt.title('Actual Prices vs. Predicted Prices (Linear Regression)')\n",
        "        plt.grid(True)\n",
        "        plt.show()\n",
        "\n",
        "        # Error Distribution Plot\n",
        "        residuals = y_test - y_pred\n",
        "        plt.figure(figsize=(10, 6))\n",
        "        sns.histplot(residuals, kde=True, bins=30, color='blue')\n",
        "        plt.xlabel('Residuals (Errors)')\n",
        "        plt.title('Error Distribution')\n",
        "        plt.grid(True)\n",
        "        plt.show()\n",
        "\n",
        "        # Return the model and metrics\n",
        "        return model\n",
        "\n",
        "    except Exception as e:\n",
        "        print(f\"An error occurred: {e}\")\n",
        "        return None"
      ],
      "metadata": {
        "id": "DyrJr1re8fRE"
      },
      "execution_count": null,
      "outputs": []
    },
    {
      "cell_type": "code",
      "source": [
        "model = train_linear_regression_model(X, y,42,0.2)"
      ],
      "metadata": {
        "id": "sLZQ2TKi8iB8"
      },
      "execution_count": null,
      "outputs": []
    },
    {
      "cell_type": "code",
      "source": [
        "\n",
        "model2 = train_linear_regression_model(X, y,42,0.3)"
      ],
      "metadata": {
        "id": "cnjh1UGq8sJ2"
      },
      "execution_count": null,
      "outputs": []
    },
    {
      "cell_type": "code",
      "source": [
        "model3 = train_linear_regression_model(X, y,1,0.3)"
      ],
      "metadata": {
        "id": "dfL-hq4g8uek"
      },
      "execution_count": null,
      "outputs": []
    },
    {
      "cell_type": "markdown",
      "source": [
        "**Price prediction of  linear regression model**"
      ],
      "metadata": {
        "id": "G5j_gL2m8xlI"
      }
    },
    {
      "cell_type": "code",
      "source": [
        "def predict_with_linear_regression_interactive(model):\n",
        "    \"\"\"\n",
        "    the function asks the user to input values and returns the predicted price.\n",
        "\n",
        "    parameters:\n",
        "     model: saved Linear Regression model.\n",
        "\n",
        "    returns:\n",
        "     predicted price.\n",
        "    \"\"\"\n",
        "    try:\n",
        "        # user input values for each feature\n",
        "        print(\"Please enter the following details for price prediction:\\n\")\n",
        "\n",
        "        acceleration = float(input(\"Acceleration (in seconds): \"))\n",
        "        top_speed = int(input(\"Top Speed (in km/h): \"))\n",
        "        car_range = int(input(\"Range (in km): \"))\n",
        "        efficiency = int(input(\"Efficiency (in Wh/km \"))\n",
        "        fast_charge_speed = float(input(\"Fast Charge Speed (in km/h): \"))\n",
        "        number_of_seats = int(input(\"Number of Seats (e.g., 5): \"))\n",
        "\n",
        "        # Creating a DataFrame with the user inputs\n",
        "        input_features = {\n",
        "            'Acceleration': acceleration,\n",
        "            'TopSpeed': top_speed,\n",
        "            'Range': car_range,\n",
        "            'Efficiency': efficiency,\n",
        "            'FastChargeSpeed': fast_charge_speed,\n",
        "            'NumberofSeats': number_of_seats\n",
        "        }\n",
        "        input_df = pd.DataFrame([input_features])\n",
        "\n",
        "\n",
        "        input_df = input_df[X.columns]\n",
        "\n",
        "        # Predicting price\n",
        "        predicted_price = model.predict(input_df)[0]\n",
        "\n",
        "        print(f\"\\nPredicted Price (in UK): £{predicted_price:.2f}\")\n",
        "        return predicted_price\n",
        "\n",
        "    except Exception as e:\n",
        "        print(f\"An error occurred during prediction: {e}\")\n",
        "        return None\n"
      ],
      "metadata": {
        "id": "Hfp1F6pZ8yqf"
      },
      "execution_count": null,
      "outputs": []
    },
    {
      "cell_type": "code",
      "source": [
        "predict_with_linear_regression_interactive(model3)"
      ],
      "metadata": {
        "id": "K8odg7dw81xW"
      },
      "execution_count": null,
      "outputs": []
    },
    {
      "cell_type": "code",
      "source": [],
      "metadata": {
        "id": "SfekKZI3835t"
      },
      "execution_count": null,
      "outputs": []
    },
    {
      "cell_type": "markdown",
      "source": [
        "# Time Series Transformer"
      ],
      "metadata": {
        "id": "01YYL1dd86Ht"
      }
    },
    {
      "cell_type": "markdown",
      "source": [
        "addional preprocessing for  regression transoformer"
      ],
      "metadata": {
        "id": "5EdFTtqf8_ez"
      }
    },
    {
      "cell_type": "code",
      "source": [
        "# Checking for NaN  valu\n",
        "print(\"Checking NaN values in X:\")\n",
        "print(X.isnull().sum())  # Checkinh NaNs in each column\n",
        "\n",
        "print(\"\\nChecking Inf values in X:\")\n",
        "print(np.isinf(X).sum())  # Checking Infinite values in each column\n",
        "\n",
        "print(\"\\nChecking NaN or Inf in target variable (y):\")\n",
        "print(pd.Series(y).isnull().sum())\n",
        "print(pd.Series(y).apply(np.isinf).sum())\n",
        "\n",
        "# Drop or Fill NaNs and Infs\n",
        "X = X.replace([np.inf, -np.inf], np.nan)  # Replace Infs with NaN\n",
        "X = X.fillna(X.mean())  # Fill NaNs with column means\n",
        "\n",
        "y = pd.Series(y).replace([np.inf, -np.inf], np.nan)\n",
        "y = y.fillna(y.mean())\n",
        "\n",
        "# Verify again\n",
        "print(\"\\nAfter Cleaning:\")\n",
        "print(X.isnull().sum())\n",
        "print(pd.Series(y).isnull().sum())\n"
      ],
      "metadata": {
        "id": "PmmuFdeN9DOQ"
      },
      "execution_count": null,
      "outputs": []
    },
    {
      "cell_type": "code",
      "source": [
        "# Verify Dataset\n",
        "if np.isnan(X).any().any() or np.isnan(y).any():\n",
        "    raise ValueError(\"NaN values are still present in the dataset after cleaning!\")\n",
        "else:\n",
        "    print(\"Dataset is clean. Proceeding to training...\")\n"
      ],
      "metadata": {
        "id": "mRoHOVO-9F_8"
      },
      "execution_count": null,
      "outputs": []
    },
    {
      "cell_type": "code",
      "source": [
        "# Transformer Regressor Model\n",
        "class TransformerRegressor(nn.Module):\n",
        "    def __init__(self, input_dim, hidden_dim, num_heads, num_layers, output_dim):\n",
        "        super(TransformerRegressor, self).__init__()\n",
        "\n",
        "        self.input_projection = nn.Linear(input_dim, hidden_dim)\n",
        "        encoder_layer = nn.TransformerEncoderLayer(\n",
        "            d_model=hidden_dim,\n",
        "            nhead=num_heads,\n",
        "            dim_feedforward=hidden_dim * 4,\n",
        "            dropout=0.1,\n",
        "            activation='relu',\n",
        "            batch_first=True\n",
        "        )\n",
        "        self.transformer_encoder = nn.TransformerEncoder(encoder_layer, num_layers=num_layers)\n",
        "\n",
        "        self.fc_out = nn.Linear(hidden_dim, output_dim)\n",
        "        self.relu = nn.ReLU()\n",
        "\n",
        "    def forward(self, x):\n",
        "        x = self.input_projection(x)\n",
        "        x = self.transformer_encoder(x)\n",
        "        x = x.mean(dim=1)\n",
        "        x = self.fc_out(x)\n",
        "        return x\n",
        "\n",
        "# Training Function\n",
        "def train_transformer(X, y, rand ,epochs, lr,ts):\n",
        "    try:\n",
        "        y = y.values if hasattr(y, 'values') else np.array(y)\n",
        "\n",
        "        # Data Preprocessing scaling\n",
        "        scaler = StandardScaler()\n",
        "        X_scaled = scaler.fit_transform(X)\n",
        "\n",
        "        # Checking for NaNs after scaling although it was done in addional preprocessing in abobe cells\n",
        "        if np.isnan(X_scaled).any() or np.isnan(y).any():\n",
        "            raise ValueError(\"NaN values detected in the dataset after scaling. Check input data.\")\n",
        "\n",
        "        X_train, X_test, y_train, y_test = train_test_split(X_scaled, y, test_size=ts, random_state=rand)\n",
        "\n",
        "        # Convert to PyTorch tensors\n",
        "        X_train_tensor = torch.tensor(X_train, dtype=torch.float32).unsqueeze(1)\n",
        "        y_train_tensor = torch.tensor(y_train, dtype=torch.float32).unsqueeze(1)\n",
        "        X_test_tensor = torch.tensor(X_test, dtype=torch.float32).unsqueeze(1)\n",
        "        y_test_tensor = torch.tensor(y_test, dtype=torch.float32).unsqueeze(1)\n",
        "\n",
        "        # Define model, loss, and optimizer\n",
        "        input_dim = X_train.shape[1]\n",
        "        hidden_dim = 64\n",
        "        num_heads = 4\n",
        "        num_layers = 2\n",
        "        output_dim = 1\n",
        "\n",
        "        model = TransformerRegressor(input_dim, hidden_dim, num_heads, num_layers, output_dim)\n",
        "        criterion = nn.MSELoss()\n",
        "        optimizer = optim.Adam(model.parameters(), lr=lr)\n",
        "\n",
        "        # Training Loop\n",
        "        train_losses = []\n",
        "        for epoch in range(epochs):\n",
        "            model.train()\n",
        "            optimizer.zero_grad()\n",
        "            output = model(X_train_tensor)\n",
        "            loss = criterion(output.squeeze(), y_train_tensor.squeeze())\n",
        "\n",
        "            # Check for NaN in Loss\n",
        "            if torch.isnan(loss):\n",
        "                raise ValueError(\"NaN loss detected during training. Adjust learning rate or model architecture.\")\n",
        "\n",
        "            loss.backward()\n",
        "            torch.nn.utils.clip_grad_norm_(model.parameters(), max_norm=1.0)  # Gradient clipping\n",
        "            optimizer.step()\n",
        "            train_losses.append(loss.item())\n",
        "\n",
        "            if epoch % 10 == 0:\n",
        "                print(f'Epoch {epoch}/{epochs}, Loss: {loss.item():.4f}')\n",
        "\n",
        "        # Plot Training Loss Curve\n",
        "        plt.figure(figsize=(10, 6))\n",
        "        plt.plot(train_losses, label='Training Loss')\n",
        "        plt.xlabel('Epochs')\n",
        "        plt.ylabel('Loss')\n",
        "        plt.title('Training Loss Curve')\n",
        "        plt.legend()\n",
        "        plt.show()\n",
        "\n",
        "        # Evaluate the model\n",
        "        model.eval()\n",
        "        with torch.no_grad():\n",
        "            y_pred = model(X_test_tensor).squeeze().numpy()\n",
        "\n",
        "        mse = mean_squared_error(y_test, y_pred)\n",
        "        rmse = np.sqrt(mse)\n",
        "        mae = mean_absolute_error(y_test, y_pred)\n",
        "        r2 = r2_score(y_test, y_pred)\n",
        "\n",
        "        print(\"\\n\" + \"-\" * 60)\n",
        "        print(\"Transformer Regressor Summary\")\n",
        "        print(\"-\" * 60)\n",
        "        print(f\"Mean Squared Error (MSE): {mse:.3f}\")\n",
        "        print(f\"Root Mean Squared Error (RMSE): {rmse:.3f}\")\n",
        "        print(f\"Mean Absolute Error (MAE): {mae:.3f}\")\n",
        "        print(f\"R-Squared Error (R²): {r2:.3f}\")\n",
        "        print(\"-\" * 60)\n",
        "\n",
        "        # Plot Actual vs. Predicted Values\n",
        "        plt.figure(figsize=(10, 6))\n",
        "        plt.scatter(y_test, y_pred, alpha=0.5, color='b')\n",
        "        plt.plot([min(y_test), max(y_test)], [min(y_test), max(y_test)], linestyle='--', color='red')\n",
        "        plt.xlabel('Actual Prices')\n",
        "        plt.ylabel('Predicted Prices')\n",
        "        plt.title('Actual Prices vs. Predicted Prices (Transformer Regressor)')\n",
        "        plt.show()\n",
        "\n",
        "        # Plot Error Distribution\n",
        "        residuals = y_test - y_pred\n",
        "        plt.figure(figsize=(10, 6))\n",
        "        sns.histplot(residuals, kde=True, bins=30, color='blue')\n",
        "        plt.xlabel('Residuals (Errors)')\n",
        "        plt.title('Error Distribution')\n",
        "        plt.show()\n",
        "\n",
        "        return model\n",
        "\n",
        "    except Exception as e:\n",
        "        print(f\"An error occurred: {e}\")\n",
        "        return None\n"
      ],
      "metadata": {
        "id": "hUp-dy4L9KOK"
      },
      "execution_count": null,
      "outputs": []
    },
    {
      "cell_type": "code",
      "source": [
        "model = train_transformer(X, y, rand=1, epochs=50, lr=0.001,ts=0.2)\n"
      ],
      "metadata": {
        "id": "4U9phXsX9M5b"
      },
      "execution_count": null,
      "outputs": []
    },
    {
      "cell_type": "code",
      "source": [
        "model2 = train_transformer(X, y, rand=42, epochs=100, lr=0.001,ts=0.3)\n"
      ],
      "metadata": {
        "id": "0sSAS9t99PKU"
      },
      "execution_count": null,
      "outputs": []
    },
    {
      "cell_type": "code",
      "source": [
        "model3 = train_transformer(X, y, rand=42, epochs=150, lr=0.001,ts=0.2)\n"
      ],
      "metadata": {
        "id": "e_uRr0Hw9RVf"
      },
      "execution_count": null,
      "outputs": []
    },
    {
      "cell_type": "markdown",
      "source": [
        "**Predicting price**"
      ],
      "metadata": {
        "id": "rdOlcSuM9T_L"
      }
    },
    {
      "cell_type": "code",
      "source": [
        "def predict_with_transformer_interactive(model, scaler,device='cpu'):\n",
        "    \"\"\"\n",
        "    Function to interactively predict the car price using the trained Transformer model.\n",
        "    Returns:\n",
        "    Predicted price.\n",
        "    \"\"\"\n",
        "    # Set model to evaluation mode\n",
        "    model.eval()\n",
        "    model.to(device)\n",
        "\n",
        "    # User input for each feature\n",
        "    print(\"Please enter the following details for price prediction:\\n\")\n",
        "\n",
        "    acceleration = float(input(\"Acceleration (in seconds): \"))\n",
        "    top_speed = int(input(\"Top Speed (in km/h): \"))\n",
        "    car_range = int(input(\"Range (in km): \"))\n",
        "    efficiency = int(input(\"Efficiency (in Wh/km): \"))\n",
        "    fast_charge_speed = float(input(\"Fast Charge Speed (in km/h): \"))\n",
        "    number_of_seats = int(input(\"Number of Seats (e.g., 5): \"))\n",
        "\n",
        "    # Creating a DataFrame with the user inputs\n",
        "    input_features = {\n",
        "        'Acceleration': acceleration,\n",
        "        'TopSpeed': top_speed,\n",
        "        'Range': car_range,\n",
        "        'Efficiency': efficiency,\n",
        "        'FastChargeSpeed': fast_charge_speed,\n",
        "        'NumberofSeats': number_of_seats\n",
        "    }\n",
        "    input_df = pd.DataFrame([input_features])\n",
        "\n",
        "    # Ensure the feature order matches the training data\n",
        "    input_df = input_df[X.columns]\n",
        "\n",
        "    # Normalize the input using the same scaler used during training\n",
        "    input_scaled = scaler.transform(input_df)\n",
        "\n",
        "    # Converting to a PyTorch tensor\n",
        "    input_tensor = torch.tensor(input_scaled, dtype=torch.float32).unsqueeze(1).to(device)\n",
        "\n",
        "    # prediction\n",
        "    with torch.no_grad():\n",
        "        predicted_price = model(input_tensor).squeeze().item()\n",
        "\n",
        "    print(f\"\\nPredicted Price (in UK): £{predicted_price:.2f}\")\n",
        "    return predicted_price\n"
      ],
      "metadata": {
        "id": "dme6PG1j9XEH"
      },
      "execution_count": null,
      "outputs": []
    },
    {
      "cell_type": "code",
      "source": [
        "scaler = StandardScaler()\n",
        "scaler.fit(X)\n",
        "predicted_price = predict_with_transformer_interactive(model2,scaler=scaler, device='cpu')\n"
      ],
      "metadata": {
        "id": "0iIIoRl49ZaT"
      },
      "execution_count": null,
      "outputs": []
    }
  ]
}